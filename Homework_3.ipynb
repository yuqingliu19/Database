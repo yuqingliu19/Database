{
 "cells": [
  {
   "cell_type": "markdown",
   "metadata": {},
   "source": [
    "## Homework 3\n",
    "This homework asks you to scrape from three different sources, please follow the instructions and do the best you can. With the exception of the first cell that imports the URL request and the beautiful soup library, I have not pre-written any code for you. Do not be afraid--you may look at the tutorial for examples, as well as the Beautiful Soup documentation, and any other Python resource (such a Stack overflow) if need be. \n",
    "\n",
    "This homework is intended to be challenging, if you only get 70% of the stuff done than you did very well."
   ]
  },
  {
   "cell_type": "code",
   "execution_count": 54,
   "metadata": {
    "collapsed": true
   },
   "outputs": [],
   "source": [
    "from urllib.request import urlopen\n",
    "from bs4 import BeautifulSoup"
   ]
  },
  {
   "cell_type": "markdown",
   "metadata": {},
   "source": [
    "## Shakespeare \n",
    "I've posted some relatively simple HTML of the first act of William Shakespeare's The Tempest here: http://floatingmedia.com/columbia/tempest.html please use that URL to download the HTML and put it through Beautiful Soup. (It also may be very helpful for you to go to that page in chrome and inspect elements why you do this.) \n",
    "**Please note: there are 2 scenes in Act 1**\n",
    "\n"
   ]
  },
  {
   "cell_type": "markdown",
   "metadata": {},
   "source": [
    "In the cells below you should you make two lines--a variable that requests and reads the HTML from the URL (http://floatingmedia.com/columbia/tempest.html), and a second variable that passes the raw HTML into Beautiful Soup. You will use that beautiful soup variable to search the HTML."
   ]
  },
  {
   "cell_type": "code",
   "execution_count": 55,
   "metadata": {
    "collapsed": true
   },
   "outputs": [],
   "source": [
    "my_url = \"http://floatingmedia.com/columbia/tempest.html\"\n",
    "raw_html = urlopen(my_url).read()\n",
    "soup_doc = BeautifulSoup(raw_html, \"html.parser\")"
   ]
  },
  {
   "cell_type": "markdown",
   "metadata": {},
   "source": [
    "Get the title of the play:"
   ]
  },
  {
   "cell_type": "code",
   "execution_count": 56,
   "metadata": {},
   "outputs": [
    {
     "data": {
      "text/plain": [
       "'The Tempest'"
      ]
     },
     "execution_count": 56,
     "metadata": {},
     "output_type": "execute_result"
    }
   ],
   "source": [
    "soup_doc.title.string"
   ]
  },
  {
   "cell_type": "markdown",
   "metadata": {},
   "source": [
    "Get the HTML that contains the setting of Act One Scene 1:"
   ]
  },
  {
   "cell_type": "code",
   "execution_count": 57,
   "metadata": {},
   "outputs": [
    {
     "data": {
      "text/plain": [
       "<div>\n",
       "<p class=\"playsubhead\">Act I, Scene 1</p>\n",
       "<p class=\"stagedir\"><strong>\n",
       "On a ship at sea</strong></p>\n",
       "</div>"
      ]
     },
     "execution_count": 57,
     "metadata": {},
     "output_type": "execute_result"
    }
   ],
   "source": [
    "soup_doc.find_all('div')[0]"
   ]
  },
  {
   "cell_type": "markdown",
   "metadata": {},
   "source": [
    "Get the setting of Act One Scene 1 (as a string):"
   ]
  },
  {
   "cell_type": "code",
   "execution_count": 58,
   "metadata": {},
   "outputs": [
    {
     "data": {
      "text/plain": [
       "'On a ship at sea'"
      ]
     },
     "execution_count": 58,
     "metadata": {},
     "output_type": "execute_result"
    }
   ],
   "source": [
    "soup_doc.find_all('div')[0].find(\"strong\").string.strip()"
   ]
  },
  {
   "cell_type": "markdown",
   "metadata": {},
   "source": [
    "Get the setting of scene 2"
   ]
  },
  {
   "cell_type": "code",
   "execution_count": 59,
   "metadata": {},
   "outputs": [
    {
     "data": {
      "text/plain": [
       "'The island. Before PROSPERO’S cell.'"
      ]
     },
     "execution_count": 59,
     "metadata": {},
     "output_type": "execute_result"
    }
   ],
   "source": [
    "soup_doc.find_all('div')[2].find(class_='stagedir').strong.string"
   ]
  },
  {
   "cell_type": "markdown",
   "metadata": {},
   "source": [
    "Get the name of the first character in Scene 1"
   ]
  },
  {
   "cell_type": "code",
   "execution_count": 60,
   "metadata": {},
   "outputs": [
    {
     "data": {
      "text/plain": [
       "'Master'"
      ]
     },
     "execution_count": 60,
     "metadata": {},
     "output_type": "execute_result"
    }
   ],
   "source": [
    "soup_doc.find_all('div')[1].find('strong').string[:-2]"
   ]
  },
  {
   "cell_type": "markdown",
   "metadata": {},
   "source": [
    "Get a list of all of characters in Scene 1 (repeats are fine, you need a loop here)"
   ]
  },
  {
   "cell_type": "code",
   "execution_count": 61,
   "metadata": {},
   "outputs": [
    {
     "name": "stdout",
     "output_type": "stream",
     "text": [
      "Master\n",
      "Boatswain\n",
      "Master\n",
      "Boatswain\n",
      "Alonso\n",
      "Boatswain\n",
      "Antonio\n",
      "Boatswain\n",
      "Gonzalo\n",
      "Boatswain\n",
      "Gonzalo\n",
      "Boatswain\n",
      "Gonzalo\n",
      "Boatswain\n",
      "Sebastian\n",
      "Boatswain\n",
      "Antonio\n",
      "Gonzalo\n",
      "Boatswain\n",
      "Mariners\n",
      "Boatswain\n",
      "Gonzalo\n",
      "Sebastian\n",
      "Antonio\n",
      "Gonzalo\n",
      "Antonio\n",
      "Sebastian\n",
      "Gonzalo\n"
     ]
    }
   ],
   "source": [
    "scene_one = soup_doc.find_all('div')[1]\n",
    "for scene in scene_one.find_all('strong'):\n",
    "    scene_one.find('strong')\n",
    "    print(scene.string[:-2])"
   ]
  },
  {
   "cell_type": "markdown",
   "metadata": {},
   "source": [
    "**Bonus:** write a script that takes all the duplicates out of the list. (This is a python thing, not a beautiful soup thing.)"
   ]
  },
  {
   "cell_type": "code",
   "execution_count": 62,
   "metadata": {},
   "outputs": [
    {
     "data": {
      "text/plain": [
       "['Sebastian',\n",
       " 'Alonso',\n",
       " 'Antonio',\n",
       " 'Mariners',\n",
       " 'Boatswain',\n",
       " 'Master',\n",
       " 'Gonzalo']"
      ]
     },
     "execution_count": 62,
     "metadata": {},
     "output_type": "execute_result"
    }
   ],
   "source": [
    "names = []\n",
    "for i, script in enumerate(soup_doc.find_all('div')[1].find_all('li')):\n",
    "    names.append(script.strong.string[:-2])\n",
    "list(set(names))"
   ]
  },
  {
   "cell_type": "markdown",
   "metadata": {},
   "source": [
    "Display every stage direction in _scene 2_"
   ]
  },
  {
   "cell_type": "code",
   "execution_count": 63,
   "metadata": {},
   "outputs": [
    {
     "name": "stdout",
     "output_type": "stream",
     "text": [
      "[Enter PROSPERO and MIRANDA]\n",
      "[Enter ARIEL]\n",
      "[Exit]\n",
      "[Enter CALIBAN]\n",
      "[Draws, and is charmed from moving]\n",
      "[Exeunt]\n"
     ]
    }
   ],
   "source": [
    "for stagedir in soup_doc.find_all('div')[3].find_all(class_='stagedir'):\n",
    "    print(stagedir.string)"
   ]
  },
  {
   "cell_type": "markdown",
   "metadata": {},
   "source": [
    "Get the HTML containing Miranda's first speech in Scene 2"
   ]
  },
  {
   "cell_type": "code",
   "execution_count": 64,
   "metadata": {},
   "outputs": [
    {
     "data": {
      "text/plain": [
       "\"Miranda. If by your art, my dearest father, you have\\n 85Put the wild waters in this roar, allay them.\\nThe sky, it seems, would pour down stinking pitch,\\nBut that the sea, mounting to the welkin's cheek,\\nDashes the fire out. O, I have suffered\\nWith those that I saw suffer: a brave vessel,\\n 90Who had, no doubt, some noble creature in her,\\nDash'd all to pieces. O, the cry did knock\\nAgainst my very heart. Poor souls, they perish'd.\\nHad I been any god of power, I would\\nHave sunk the sea within the earth or ere\\n 95It should the good ship so have swallow'd and\\nThe fraughting souls within her.\\n\""
      ]
     },
     "execution_count": 64,
     "metadata": {},
     "output_type": "execute_result"
    }
   ],
   "source": [
    "soup_doc.find_all('div')[3].li.text"
   ]
  },
  {
   "cell_type": "markdown",
   "metadata": {},
   "source": [
    "Now display those same lines without the speaker's name (need to use siblings and a loop to get this)"
   ]
  },
  {
   "cell_type": "code",
   "execution_count": 65,
   "metadata": {},
   "outputs": [
    {
     "name": "stdout",
     "output_type": "stream",
     "text": [
      "If by your art, my dearest father, you have\n",
      " \n",
      "<span class=\"playlinenum\">85</span>\n",
      "<br/>\n",
      "Put the wild waters in this roar, allay them.\n",
      "\n",
      "<br/>\n",
      "The sky, it seems, would pour down stinking pitch,\n",
      "\n",
      "<br/>\n",
      "But that the sea, mounting to the welkin's cheek,\n",
      "\n",
      "<br/>\n",
      "Dashes the fire out. O, I have suffered\n",
      "\n",
      "<br/>\n",
      "With those that I saw suffer: a brave vessel,\n",
      " \n",
      "<span class=\"playlinenum\">90</span>\n",
      "<br/>\n",
      "Who had, no doubt, some noble creature in her,\n",
      "\n",
      "<br/>\n",
      "Dash'd all to pieces. O, the cry did knock\n",
      "\n",
      "<br/>\n",
      "Against my very heart. Poor souls, they perish'd.\n",
      "\n",
      "<br/>\n",
      "Had I been any god of power, I would\n",
      "\n",
      "<br/>\n",
      "Have sunk the sea within the earth or ere\n",
      " \n",
      "<span class=\"playlinenum\">95</span>\n",
      "<br/>\n",
      "It should the good ship so have swallow'd and\n",
      "\n",
      "<br/>\n",
      "The fraughting souls within her.\n",
      "\n"
     ]
    }
   ],
   "source": [
    "for x in soup_doc.find_all('div')[3].li.strong.next_siblings:\n",
    "    print(x)"
   ]
  },
  {
   "cell_type": "markdown",
   "metadata": {},
   "source": [
    "Get the HTML containing the speech after Miranda's"
   ]
  },
  {
   "cell_type": "code",
   "execution_count": 66,
   "metadata": {},
   "outputs": [
    {
     "data": {
      "text/plain": [
       "<ul><li class=\"playtext\"><strong>Prospero. </strong>Be collected:\n",
       "<br/>No more amazement: tell your piteous heart\n",
       "<br/>There's no harm done.\n",
       " <span class=\"playlinenum\">100</span></li></ul>"
      ]
     },
     "execution_count": 66,
     "metadata": {},
     "output_type": "execute_result"
    }
   ],
   "source": [
    "soup_doc.find_all('div')[3].li.parent.find_next_sibling()"
   ]
  },
  {
   "cell_type": "markdown",
   "metadata": {},
   "source": [
    "## Box Office Mojo \n",
    "I've posted some slightly simplified HTML of the current worldwide box office leaders here: http://floatingmedia.com/columbia/boxoffice.htm please use that URL to download the HTML and put it through Beautiful Soup. (It also may be very helpful for you to go to that page in chrome and inspect elements why you do this.) \n",
    "\n",
    "For this part of the assignment you should focus mostly on tr (table rows) amd td (table cells) -- and search them using find_all('tr')[1] in order to get a specific row, and find_all('td')[2] to get a specific cell."
   ]
  },
  {
   "cell_type": "markdown",
   "metadata": {},
   "source": [
    "Just like with the Shakespeare write two lines get the raw HTML and then transform the raw HTML into a beautiful soup variable"
   ]
  },
  {
   "cell_type": "code",
   "execution_count": 67,
   "metadata": {
    "collapsed": true
   },
   "outputs": [],
   "source": [
    "from urllib.request import urlopen\n",
    "from bs4 import BeautifulSoup"
   ]
  },
  {
   "cell_type": "code",
   "execution_count": 68,
   "metadata": {
    "collapsed": true
   },
   "outputs": [],
   "source": [
    "my_url = \"http://floatingmedia.com/columbia/boxoffice.htm\"\n",
    "raw_html = urlopen(my_url).read()\n",
    "soup_doc = BeautifulSoup(raw_html, \"html.parser\")"
   ]
  },
  {
   "cell_type": "markdown",
   "metadata": {},
   "source": [
    "Get the text \"2017 worldwide grosses\""
   ]
  },
  {
   "cell_type": "code",
   "execution_count": 69,
   "metadata": {},
   "outputs": [
    {
     "data": {
      "text/plain": [
       "'2017 WORLDWIDE GROSSES'"
      ]
     },
     "execution_count": 69,
     "metadata": {},
     "output_type": "execute_result"
    }
   ],
   "source": [
    "soup_doc.h1.string"
   ]
  },
  {
   "cell_type": "markdown",
   "metadata": {},
   "source": [
    "Get an HTML list of all of the column names from the header of the table: rank, title, etc..."
   ]
  },
  {
   "cell_type": "code",
   "execution_count": 70,
   "metadata": {},
   "outputs": [
    {
     "data": {
      "text/plain": [
       "[<td align=\"center\">Rank</td>,\n",
       " <td align=\"center\">Title</td>,\n",
       " <td align=\"center\">Studio</td>,\n",
       " <td align=\"center\">Worldwide</td>,\n",
       " <td align=\"center\">Domestic</td>,\n",
       " <td align=\"center\">Overseas</td>]"
      ]
     },
     "execution_count": 70,
     "metadata": {},
     "output_type": "execute_result"
    }
   ],
   "source": [
    "soup_doc.tr.find_all('td')"
   ]
  },
  {
   "cell_type": "markdown",
   "metadata": {},
   "source": [
    "Make a variable called \"headers\" and set it equal to the list of strings of the column names and header. In the next line write: \"headers[1]\" your output should be \"Title\""
   ]
  },
  {
   "cell_type": "code",
   "execution_count": 71,
   "metadata": {},
   "outputs": [
    {
     "data": {
      "text/plain": [
       "<td align=\"center\">Title</td>"
      ]
     },
     "execution_count": 71,
     "metadata": {},
     "output_type": "execute_result"
    }
   ],
   "source": [
    "headers = soup_doc.find('tr').find_all()\n",
    "headers[1]"
   ]
  },
  {
   "cell_type": "markdown",
   "metadata": {},
   "source": [
    "Get the HTML for the row that contains the #1 movie"
   ]
  },
  {
   "cell_type": "code",
   "execution_count": 72,
   "metadata": {},
   "outputs": [
    {
     "data": {
      "text/plain": [
       "<b>Beauty and the Beast (2017)</b>"
      ]
     },
     "execution_count": 72,
     "metadata": {},
     "output_type": "execute_result"
    }
   ],
   "source": [
    "soup_doc.find_all('tr')[1].find_all('td')[1].find('b')"
   ]
  },
  {
   "cell_type": "markdown",
   "metadata": {},
   "source": [
    "Get the HTML for the row that contains the #10 movie "
   ]
  },
  {
   "cell_type": "code",
   "execution_count": 73,
   "metadata": {},
   "outputs": [
    {
     "data": {
      "text/plain": [
       "<b>xXx: The Return of Xander Cage</b>"
      ]
     },
     "execution_count": 73,
     "metadata": {},
     "output_type": "execute_result"
    }
   ],
   "source": [
    "soup_doc.find_all('tr')[10].find_all('td')[1].find('b')"
   ]
  },
  {
   "cell_type": "markdown",
   "metadata": {},
   "source": [
    "Get a list of the top 10 films (You'll need to use the loop and specify a range for the loop.) The list should look like this:\n",
    "\n",
    "`Beauty and the Beast (2017)\n",
    "The Fate of the Furious\n",
    "Guardians of the Galaxy Vol. 2\n",
    "Logan\n",
    "Kong: Skull Island\n",
    "Pirates of the Caribbean: Dead Men Tell No Tales\n",
    "The Boss Baby\n",
    "Fifty Shades Darker\n",
    "Your Name.\n",
    "xXx: The Return of Xander Cage`"
   ]
  },
  {
   "cell_type": "code",
   "execution_count": 74,
   "metadata": {},
   "outputs": [
    {
     "name": "stdout",
     "output_type": "stream",
     "text": [
      "Beauty and the Beast (2017)\n",
      "The Fate of the Furious\n",
      "Guardians of the Galaxy Vol. 2\n",
      "Logan\n",
      "Kong: Skull Island\n",
      "Pirates of the Caribbean: Dead Men Tell No Tales\n",
      "The Boss Baby\n",
      "Fifty Shades Darker\n",
      "Your Name.\n",
      "xXx: The Return of Xander Cage\n"
     ]
    }
   ],
   "source": [
    "for x, film in enumerate(soup_doc.find_all('tr')):\n",
    "    if x == 0:\n",
    "        continue\n",
    "    if x > 10:\n",
    "        break;\n",
    "    print(film.find_all('td')[1].string)"
   ]
  },
  {
   "cell_type": "markdown",
   "metadata": {},
   "source": [
    "Display as strings the top 10 films by name and worldwide gross. Like this:\n",
    "\n",
    "`Beauty and the Beast (2017) $502.2\n",
    "The Fate of the Furious $223.9\n",
    "Guardians of the Galaxy Vol. 2 $356.7\n",
    "Logan $226.2\n",
    "Kong: Skull Island $167.8\n",
    "Pirates of the Caribbean: Dead Men Tell No Tales $117.6\n",
    "The Boss Baby $171.0\n",
    "Fifty Shades Darker $114.4\n",
    "Your Name. $4.9\n",
    "xXx: The Return of Xander Cage $44.9`"
   ]
  },
  {
   "cell_type": "code",
   "execution_count": 75,
   "metadata": {},
   "outputs": [
    {
     "name": "stdout",
     "output_type": "stream",
     "text": [
      "Beauty and the Beast (2017) $1,241.3\n",
      "The Fate of the Furious $1,229.4\n",
      "Guardians of the Galaxy Vol. 2 $818.6\n",
      "Logan $612.4\n",
      "Kong: Skull Island $565.9\n",
      "Pirates of the Caribbean: Dead Men Tell No Tales $510.5\n",
      "The Boss Baby $483.6\n",
      "Fifty Shades Darker $378.8\n",
      "Your Name. $354.4\n",
      "xXx: The Return of Xander Cage $346.1\n"
     ]
    }
   ],
   "source": [
    "for x, film in enumerate(soup_doc.find_all('tr')):\n",
    "    if x == 0:\n",
    "        continue\n",
    "    if x > 10:\n",
    "        break;\n",
    "    print(film.find_all('td')[1].string, film.find_all('td')[3].string)"
   ]
  },
  {
   "cell_type": "markdown",
   "metadata": {},
   "source": [
    "Display the link for the movie `Logan`:"
   ]
  },
  {
   "cell_type": "code",
   "execution_count": 76,
   "metadata": {},
   "outputs": [
    {
     "data": {
      "text/plain": [
       "'http://www.boxofficemojo.com/movies/?id=wolverine2017.htm'"
      ]
     },
     "execution_count": 76,
     "metadata": {},
     "output_type": "execute_result"
    }
   ],
   "source": [
    "soup_doc.find_all('tr')[4].find_all('td')[1].find('a')['href']"
   ]
  },
  {
   "cell_type": "markdown",
   "metadata": {},
   "source": [
    "Create a list for `Logan` that looks like this:\n",
    "\n",
    "`['4', 'Logan', 'Fox', '$612.4', '$226.2', '$386.2']`"
   ]
  },
  {
   "cell_type": "code",
   "execution_count": 77,
   "metadata": {},
   "outputs": [
    {
     "data": {
      "text/plain": [
       "['4', 'Logan', 'Fox', '$612.4', '$226.2', '$386.2']"
      ]
     },
     "execution_count": 77,
     "metadata": {},
     "output_type": "execute_result"
    }
   ],
   "source": [
    "logan_list = []\n",
    "for i in soup_doc.find_all('tr')[4].find_all('td'):\n",
    "    logan_list.append(i.string)\n",
    "logan_list"
   ]
  },
  {
   "cell_type": "markdown",
   "metadata": {},
   "source": [
    "Here is some premade code. If you got your headers list and your logan_list right, this will make you a nice dictionary for Logan."
   ]
  },
  {
   "cell_type": "code",
   "execution_count": 79,
   "metadata": {},
   "outputs": [
    {
     "name": "stdout",
     "output_type": "stream",
     "text": [
      "{<td align=\"center\">Studio</td>: 'Fox', <td align=\"center\">Worldwide</td>: '$612.4', <td align=\"center\">Title</td>: 'Logan', <td align=\"center\">Overseas</td>: '$386.2', <td align=\"center\">Rank</td>: '4', <td align=\"center\">Domestic</td>: '$226.2'}\n"
     ]
    }
   ],
   "source": [
    "logan_dict = dict(zip(headers, logan_list))\n",
    "print(logan_dict)"
   ]
  },
  {
   "cell_type": "markdown",
   "metadata": {},
   "source": [
    "## Advanced Challenge\n",
    "Pitchfork is no go, so try to get out all of the artists and albums (and synopses) from NPRs 2015 list: http://www.npr.org/2015/12/07/458447213/npr-musics-50-favorite-albums-of-2015\n",
    "\n",
    "Use as many cells as you would like, and don't forget to make a new URL request and a new beautiful soup variable"
   ]
  },
  {
   "cell_type": "code",
   "execution_count": 80,
   "metadata": {
    "collapsed": true
   },
   "outputs": [],
   "source": [
    "my_url = \"http://www.npr.org/2015/12/07/458447213/npr-musics-50-favorite-albums-of-2015\"\n",
    "raw_html = urlopen(my_url).read()\n",
    "soup_doc = BeautifulSoup(raw_html, \"html.parser\")"
   ]
  },
  {
   "cell_type": "code",
   "execution_count": null,
   "metadata": {
    "collapsed": true
   },
   "outputs": [],
   "source": []
  }
 ],
 "metadata": {
  "kernelspec": {
   "display_name": "Python 3",
   "language": "python",
   "name": "python3"
  },
  "language_info": {
   "codemirror_mode": {
    "name": "ipython",
    "version": 3
   },
   "file_extension": ".py",
   "mimetype": "text/x-python",
   "name": "python",
   "nbconvert_exporter": "python",
   "pygments_lexer": "ipython3",
   "version": "3.5.2"
  }
 },
 "nbformat": 4,
 "nbformat_minor": 2
}
